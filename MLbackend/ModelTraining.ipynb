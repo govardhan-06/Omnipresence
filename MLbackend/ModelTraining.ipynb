{
 "cells": [
  {
   "cell_type": "markdown",
   "id": "218c810c-2c4b-44c2-89cd-cb4794d0738a",
   "metadata": {},
   "source": [
    "<h1 align=\"center\">Omnipresence ML Backend</h1>"
   ]
  },
  {
   "cell_type": "markdown",
   "id": "ac74d1e0-7455-4eea-a021-e6bf8b0b8609",
   "metadata": {},
   "source": [
    "<h3>Importing Required Libraries</h3>"
   ]
  },
  {
   "cell_type": "code",
   "execution_count": 1,
   "id": "27228688-576b-450f-8fe2-93dc4c3a62e5",
   "metadata": {},
   "outputs": [],
   "source": [
    "import os\n",
    "import librosa\n",
    "import pandas as pd\n",
    "import numpy as np\n",
    "import tensorflow as tf\n",
    "from tensorflow.keras.models import Sequential\n",
    "from tensorflow.keras.layers import Conv2D, MaxPooling2D, Flatten, Dense, Dropout, BatchNormalization, Input\n",
    "from keras_tuner import RandomSearch\n",
    "import matplotlib.pyplot as plt"
   ]
  },
  {
   "cell_type": "markdown",
   "id": "5dba69eb-e5e0-4743-84f0-ee2d80211349",
   "metadata": {},
   "source": [
    "<h3>Data Preprocessing</h3>"
   ]
  },
  {
   "cell_type": "code",
   "execution_count": 2,
   "id": "b4379d27-a55f-4def-9aba-9578b6ce5fae",
   "metadata": {},
   "outputs": [
    {
     "name": "stdout",
     "output_type": "stream",
     "text": [
      "N. files: 121\n",
      "Labels: [0, 0, 0, 0, 0, 0, 0, 0, 0, 0, 0, 0, 0, 0, 0, 0, 0, 0, 0, 0, 1, 1, 1, 1, 1, 1, 1, 1, 1, 1, 1, 1, 1, 1, 1, 1, 1, 1, 1, 1, 1, 1, 1, 1, 1, 1, 1, 1, 1, 1, 1, 1, 1, 1, 1, 1, 1, 1, 1, 1, 1, 1, 1, 1, 1, 1, 1, 1, 1, 1, 1, 1, 1, 1, 1, 1, 1, 1, 1, 1, 1, 1, 1, 1, 1, 1, 1, 1, 1, 1, 1, 1, 1, 1, 1, 1, 1, 1, 1, 1, 1, 1, 1, 1, 1, 1, 1, 1, 1, 1, 1, 1, 1, 1, 1, 1, 1, 1, 1, 1, 1]\n"
     ]
    }
   ],
   "source": [
    "data_dir='Data/'\n",
    "fpaths=[]\n",
    "labels=[]\n",
    "for filename in os.listdir(data_dir):\n",
    "    if filename.startswith('positive'):\n",
    "        labels.append(1)\n",
    "        #For Scream\n",
    "    elif filename.startswith('negative'):\n",
    "        labels.append(0)\n",
    "        #For NotScream\n",
    "    fpaths.append(os.path.join(data_dir,filename))\n",
    "\n",
    "print(f\"N. files: {len(fpaths)}\")\n",
    "print(f\"Labels: {labels[:]}\")\n",
    "                             "
   ]
  },
  {
   "cell_type": "markdown",
   "id": "c2f34144-b5b1-45bb-bd69-11d242ea692f",
   "metadata": {},
   "source": [
    "<h3>Data Augmentation</h3>"
   ]
  },
  {
   "cell_type": "code",
   "execution_count": 3,
   "id": "57dc3c01-85ec-4e7d-971a-63a223386b11",
   "metadata": {
    "scrolled": true
   },
   "outputs": [],
   "source": [
    "def augment_audio(audio, sample_rate):\n",
    "    try:\n",
    "        # Time-shifting\n",
    "        shift = np.random.randint(sample_rate)\n",
    "        augmented_audio = np.roll(audio, shift)\n",
    "        \n",
    "        # Adding noise\n",
    "        noise = np.random.randn(len(audio))\n",
    "        augmented_audio = augmented_audio + 0.005 * noise\n",
    "        \n",
    "        # Changing pitch\n",
    "        pitch_factor = np.random.uniform(low=-5, high=5)\n",
    "        augmented_audio = librosa.effects.pitch_shift(augmented_audio, sr=sample_rate, n_steps=pitch_factor)\n",
    "        \n",
    "        # Changing speed\n",
    "        speed_factor = np.random.uniform(low=0.9, high=1.1)\n",
    "        augmented_audio = librosa.effects.time_stretch(augmented_audio, rate=speed_factor)\n",
    "        \n",
    "        return augmented_audio\n",
    "    except Exception as e:\n",
    "        print(f\"Error augmenting audio: {e}\")\n",
    "        return audio\n",
    "\n",
    "# Apply augmentation to the audio files\n",
    "augmented_audios = [augment_audio(librosa.load(file_path, sr=16000)[0], 16000) for file_path in fpaths]\n",
    "\n",
    "\n"
   ]
  },
  {
   "cell_type": "markdown",
   "id": "e5db8b11-fc84-4f9d-9099-a5c626b1dbba",
   "metadata": {},
   "source": [
    "<h3>Extracting features from Audio:</h3>"
   ]
  },
  {
   "cell_type": "code",
   "execution_count": 4,
   "id": "c24ba90a-2ce3-4950-8cea-45c4af3d5bc0",
   "metadata": {},
   "outputs": [
    {
     "name": "stdout",
     "output_type": "stream",
     "text": [
      "Augmented feature shape: (121, 20, 174)\n",
      "Labels shape: (121,)\n"
     ]
    }
   ],
   "source": [
    "def extract_features_from_audio(audio, sample_rate=16000, max_pad_len=174):\n",
    "    try:\n",
    "        # Extract MFCC features\n",
    "        mfccs = librosa.feature.mfcc(y=audio, sr=sample_rate, n_mfcc=20)\n",
    "        \n",
    "        # Pad or truncate the MFCCs to ensure they have a consistent length\n",
    "        if mfccs.shape[1] > max_pad_len:\n",
    "            mfccs = mfccs[:, :max_pad_len]\n",
    "        else:\n",
    "            pad_width = max_pad_len - mfccs.shape[1]\n",
    "            mfccs = np.pad(mfccs, pad_width=((0, 0), (0, pad_width)), mode='constant')\n",
    "        \n",
    "        # Return the MFCCs\n",
    "        return mfccs\n",
    "    except Exception as e:\n",
    "        print(f\"Error processing audio: {e}\")\n",
    "        return None\n",
    "\n",
    "# Extract features for all augmented audios\n",
    "augmented_features = [extract_features_from_audio(audio) for audio in augmented_audios]\n",
    "augmented_features = [feature for feature in augmented_features if feature is not None]  # Remove any None values\n",
    "\n",
    "# Convert to numpy array for machine learning\n",
    "X = np.array(augmented_features)\n",
    "y= np.array(labels)  # Ensure that this matches the length of X_augmented\n",
    "\n",
    "print(f\"Augmented feature shape: {X.shape}\")\n",
    "print(f\"Labels shape: {y.shape}\")\n",
    "\n"
   ]
  },
  {
   "cell_type": "markdown",
   "id": "186b3a23-f945-4559-9f13-a209841273a1",
   "metadata": {},
   "source": [
    "<h3>Defining the Model</h3>"
   ]
  },
  {
   "cell_type": "code",
   "execution_count": 5,
   "id": "fcc9ac75-05c0-41ce-9d50-4fb40651b9a2",
   "metadata": {},
   "outputs": [],
   "source": [
    "X_reshaped = X.reshape(-1, 20, 174, 1)\n",
    "\n",
    "\n",
    "def build_model(hp):\n",
    "    model = Sequential()\n",
    "    model.add(Input(shape=(20, 174, 1)))  # Use Input layer as the first layer\n",
    "    model.add(Conv2D(filters=hp.Int('conv_1_filters', min_value=32, max_value=128, step=32), \n",
    "                     kernel_size=hp.Choice('conv_1_kernel', values=[3,5]), \n",
    "                     activation='relu', \n",
    "                     padding='same'))\n",
    "    model.add(BatchNormalization())\n",
    "    model.add(MaxPooling2D(pool_size=(2, 2)))\n",
    "    model.add(Dropout(rate=hp.Float('dropout_1', min_value=0.2, max_value=0.5, step=0.1)))\n",
    "\n",
    "    model.add(Conv2D(filters=hp.Int('conv_2_filters', min_value=32, max_value=128, step=32), \n",
    "                     kernel_size=hp.Choice('conv_2_kernel', values=[3,5]), \n",
    "                     activation='relu',\n",
    "                     padding='same'))\n",
    "    model.add(BatchNormalization())\n",
    "    model.add(MaxPooling2D(pool_size=(2, 2)))\n",
    "    model.add(Dropout(rate=hp.Float('dropout_2', min_value=0.2, max_value=0.5, step=0.1)))\n",
    "\n",
    "    model.add(Flatten())\n",
    "    \n",
    "    model.add(Dense(units=hp.Int('dense_units', min_value=64, max_value=256, step=64), activation='relu'))\n",
    "    model.add(Dropout(rate=hp.Float('dropout_dense', min_value=0.2, max_value=0.5, step=0.1)))\n",
    "    \n",
    "    model.add(Dense(1, activation='sigmoid'))  # Output layer for binary classification\n",
    "    \n",
    "    model.compile(optimizer=tf.keras.optimizers.Adam(hp.Choice('learning_rate', values=[1e-2, 1e-3, 1e-4])),\n",
    "                  loss='binary_crossentropy', \n",
    "                  metrics=['accuracy'])\n",
    "    \n",
    "    return model\n"
   ]
  },
  {
   "cell_type": "markdown",
   "id": "4e45086e-e6b8-4676-82c0-5fc24cc7289d",
   "metadata": {},
   "source": [
    "<h3>Hyperparameter Tuning</h3>"
   ]
  },
  {
   "cell_type": "code",
   "execution_count": 6,
   "id": "2429ca77-ab07-464c-81d8-33fed263bdc3",
   "metadata": {},
   "outputs": [
    {
     "name": "stdout",
     "output_type": "stream",
     "text": [
      "Reloading Tuner from my_dir\\audio_scream_detection\\tuner0.json\n",
      "Search space summary\n",
      "Default search space size: 9\n",
      "conv_1_filters (Int)\n",
      "{'default': None, 'conditions': [], 'min_value': 32, 'max_value': 128, 'step': 32, 'sampling': 'linear'}\n",
      "conv_1_kernel (Choice)\n",
      "{'default': 3, 'conditions': [], 'values': [3, 5], 'ordered': True}\n",
      "dropout_1 (Float)\n",
      "{'default': 0.2, 'conditions': [], 'min_value': 0.2, 'max_value': 0.5, 'step': 0.1, 'sampling': 'linear'}\n",
      "conv_2_filters (Int)\n",
      "{'default': None, 'conditions': [], 'min_value': 32, 'max_value': 128, 'step': 32, 'sampling': 'linear'}\n",
      "conv_2_kernel (Choice)\n",
      "{'default': 3, 'conditions': [], 'values': [3, 5], 'ordered': True}\n",
      "dropout_2 (Float)\n",
      "{'default': 0.2, 'conditions': [], 'min_value': 0.2, 'max_value': 0.5, 'step': 0.1, 'sampling': 'linear'}\n",
      "dense_units (Int)\n",
      "{'default': None, 'conditions': [], 'min_value': 64, 'max_value': 256, 'step': 64, 'sampling': 'linear'}\n",
      "dropout_dense (Float)\n",
      "{'default': 0.2, 'conditions': [], 'min_value': 0.2, 'max_value': 0.5, 'step': 0.1, 'sampling': 'linear'}\n",
      "learning_rate (Choice)\n",
      "{'default': 0.01, 'conditions': [], 'values': [0.01, 0.001, 0.0001], 'ordered': True}\n",
      "\n",
      "The hyperparameter search is complete. \n",
      "Optimal number of filters in the first conv layer: 128\n",
      "Optimal kernel size for the first conv layer: 5\n",
      "Optimal dropout rate for the first dropout layer: 0.4\n",
      "Optimal number of filters in the second conv layer: 128\n",
      "Optimal kernel size for the second conv layer: 3\n",
      "Optimal dropout rate for the second dropout layer: 0.30000000000000004\n",
      "Optimal number of units in the dense layer: 192\n",
      "Optimal dropout rate for the dense dropout layer: 0.30000000000000004\n",
      "Optimal learning rate for the optimizer: 0.001\n",
      "\n"
     ]
    }
   ],
   "source": [
    "# Instantiate the tuner\n",
    "tuner = RandomSearch(\n",
    "    build_model,\n",
    "    objective='val_accuracy',\n",
    "    max_trials=5,\n",
    "    executions_per_trial=1,\n",
    "    directory='my_dir',\n",
    "    project_name='audio_scream_detection'\n",
    ")\n",
    "\n",
    "# Print a summary of the search space\n",
    "tuner.search_space_summary()\n",
    "\n",
    "# Split the data into training and validation sets\n",
    "from sklearn.model_selection import train_test_split\n",
    "X_train, X_val, y_train, y_val = train_test_split(X_reshaped, y, test_size=0.2, random_state=42)\n",
    "\n",
    "# Run the hyperparameter search\n",
    "tuner.search(X_train, y_train, epochs=20, validation_data=(X_val, y_val))\n",
    "\n",
    "# Get the optimal hyperparameters\n",
    "best_hps = tuner.get_best_hyperparameters(num_trials=1)[0]\n",
    "\n",
    "print(f\"\"\"\n",
    "The hyperparameter search is complete. \n",
    "Optimal number of filters in the first conv layer: {best_hps.get('conv_1_filters')}\n",
    "Optimal kernel size for the first conv layer: {best_hps.get('conv_1_kernel')}\n",
    "Optimal dropout rate for the first dropout layer: {best_hps.get('dropout_1')}\n",
    "Optimal number of filters in the second conv layer: {best_hps.get('conv_2_filters')}\n",
    "Optimal kernel size for the second conv layer: {best_hps.get('conv_2_kernel')}\n",
    "Optimal dropout rate for the second dropout layer: {best_hps.get('dropout_2')}\n",
    "Optimal number of units in the dense layer: {best_hps.get('dense_units')}\n",
    "Optimal dropout rate for the dense dropout layer: {best_hps.get('dropout_dense')}\n",
    "Optimal learning rate for the optimizer: {best_hps.get('learning_rate')}\n",
    "\"\"\")"
   ]
  },
  {
   "cell_type": "markdown",
   "id": "df132412-79a2-48ea-8ff1-720f271ef0bb",
   "metadata": {},
   "source": [
    "<h3>Split the Data</h3>"
   ]
  },
  {
   "cell_type": "code",
   "execution_count": 7,
   "id": "73cbda34-a67c-4294-977e-f5dcc6f87fd7",
   "metadata": {},
   "outputs": [
    {
     "name": "stdout",
     "output_type": "stream",
     "text": [
      "Training data shape: (84, 20, 174, 1)\n",
      "Validation data shape: (37, 20, 174, 1)\n"
     ]
    }
   ],
   "source": [
    "from sklearn.model_selection import train_test_split\n",
    "\n",
    "# Split the data\n",
    "X_train, X_val, y_train, y_val = train_test_split(X_reshaped, y, test_size=0.3, random_state=42)\n",
    "\n",
    "print(f\"Training data shape: {X_train.shape}\")\n",
    "print(f\"Validation data shape: {X_val.shape}\")\n"
   ]
  },
  {
   "cell_type": "markdown",
   "id": "41a4d759-c8d4-45ed-9f11-89821d20f939",
   "metadata": {},
   "source": [
    "<h3>Training the model</h3>"
   ]
  },
  {
   "cell_type": "code",
   "execution_count": 8,
   "id": "ef4292d3-7a99-46ff-b896-1964f9d685f0",
   "metadata": {},
   "outputs": [
    {
     "name": "stdout",
     "output_type": "stream",
     "text": [
      "Epoch 1/100\n",
      "\u001b[1m3/3\u001b[0m \u001b[32m━━━━━━━━━━━━━━━━━━━━\u001b[0m\u001b[37m\u001b[0m \u001b[1m3s\u001b[0m 341ms/step - accuracy: 0.6010 - loss: 12.7491 - val_accuracy: 0.8108 - val_loss: 40.4229\n",
      "Epoch 2/100\n",
      "\u001b[1m3/3\u001b[0m \u001b[32m━━━━━━━━━━━━━━━━━━━━\u001b[0m\u001b[37m\u001b[0m \u001b[1m1s\u001b[0m 230ms/step - accuracy: 0.8542 - loss: 3.2646 - val_accuracy: 0.8108 - val_loss: 9.8176\n",
      "Epoch 3/100\n",
      "\u001b[1m3/3\u001b[0m \u001b[32m━━━━━━━━━━━━━━━━━━━━\u001b[0m\u001b[37m\u001b[0m \u001b[1m1s\u001b[0m 231ms/step - accuracy: 0.3942 - loss: 1.9149 - val_accuracy: 0.8108 - val_loss: 7.8707\n",
      "Epoch 4/100\n",
      "\u001b[1m3/3\u001b[0m \u001b[32m━━━━━━━━━━━━━━━━━━━━\u001b[0m\u001b[37m\u001b[0m \u001b[1m1s\u001b[0m 230ms/step - accuracy: 0.8856 - loss: 0.2938 - val_accuracy: 0.8108 - val_loss: 8.7496\n",
      "Epoch 5/100\n",
      "\u001b[1m3/3\u001b[0m \u001b[32m━━━━━━━━━━━━━━━━━━━━\u001b[0m\u001b[37m\u001b[0m \u001b[1m1s\u001b[0m 227ms/step - accuracy: 0.8367 - loss: 0.5553 - val_accuracy: 0.8108 - val_loss: 7.7778\n",
      "Epoch 6/100\n",
      "\u001b[1m3/3\u001b[0m \u001b[32m━━━━━━━━━━━━━━━━━━━━\u001b[0m\u001b[37m\u001b[0m \u001b[1m1s\u001b[0m 231ms/step - accuracy: 0.8484 - loss: 0.2867 - val_accuracy: 0.8108 - val_loss: 6.3803\n",
      "Epoch 7/100\n",
      "\u001b[1m3/3\u001b[0m \u001b[32m━━━━━━━━━━━━━━━━━━━━\u001b[0m\u001b[37m\u001b[0m \u001b[1m1s\u001b[0m 228ms/step - accuracy: 0.8562 - loss: 0.1945 - val_accuracy: 0.8108 - val_loss: 5.1189\n",
      "Epoch 8/100\n",
      "\u001b[1m3/3\u001b[0m \u001b[32m━━━━━━━━━━━━━━━━━━━━\u001b[0m\u001b[37m\u001b[0m \u001b[1m1s\u001b[0m 220ms/step - accuracy: 0.8718 - loss: 0.1543 - val_accuracy: 0.8108 - val_loss: 4.1728\n",
      "Epoch 9/100\n",
      "\u001b[1m3/3\u001b[0m \u001b[32m━━━━━━━━━━━━━━━━━━━━\u001b[0m\u001b[37m\u001b[0m \u001b[1m1s\u001b[0m 243ms/step - accuracy: 0.8172 - loss: 0.1826 - val_accuracy: 0.8108 - val_loss: 3.4114\n",
      "Epoch 10/100\n",
      "\u001b[1m3/3\u001b[0m \u001b[32m━━━━━━━━━━━━━━━━━━━━\u001b[0m\u001b[37m\u001b[0m \u001b[1m1s\u001b[0m 249ms/step - accuracy: 0.8564 - loss: 0.1793 - val_accuracy: 0.8108 - val_loss: 2.8645\n",
      "Epoch 11/100\n",
      "\u001b[1m3/3\u001b[0m \u001b[32m━━━━━━━━━━━━━━━━━━━━\u001b[0m\u001b[37m\u001b[0m \u001b[1m1s\u001b[0m 230ms/step - accuracy: 0.8622 - loss: 0.1658 - val_accuracy: 0.8108 - val_loss: 2.4612\n",
      "Epoch 12/100\n",
      "\u001b[1m3/3\u001b[0m \u001b[32m━━━━━━━━━━━━━━━━━━━━\u001b[0m\u001b[37m\u001b[0m \u001b[1m1s\u001b[0m 233ms/step - accuracy: 0.8759 - loss: 0.1557 - val_accuracy: 0.8108 - val_loss: 2.1442\n",
      "Epoch 13/100\n",
      "\u001b[1m3/3\u001b[0m \u001b[32m━━━━━━━━━━━━━━━━━━━━\u001b[0m\u001b[37m\u001b[0m \u001b[1m1s\u001b[0m 240ms/step - accuracy: 0.9096 - loss: 0.1744 - val_accuracy: 0.8108 - val_loss: 1.9072\n",
      "Epoch 14/100\n",
      "\u001b[1m3/3\u001b[0m \u001b[32m━━━━━━━━━━━━━━━━━━━━\u001b[0m\u001b[37m\u001b[0m \u001b[1m1s\u001b[0m 240ms/step - accuracy: 0.8996 - loss: 0.1334 - val_accuracy: 0.8108 - val_loss: 1.7229\n",
      "Epoch 15/100\n",
      "\u001b[1m3/3\u001b[0m \u001b[32m━━━━━━━━━━━━━━━━━━━━\u001b[0m\u001b[37m\u001b[0m \u001b[1m1s\u001b[0m 242ms/step - accuracy: 0.9172 - loss: 0.1366 - val_accuracy: 0.8108 - val_loss: 1.5659\n",
      "Epoch 16/100\n",
      "\u001b[1m3/3\u001b[0m \u001b[32m━━━━━━━━━━━━━━━━━━━━\u001b[0m\u001b[37m\u001b[0m \u001b[1m1s\u001b[0m 229ms/step - accuracy: 0.9193 - loss: 0.1022 - val_accuracy: 0.8108 - val_loss: 1.3924\n",
      "Epoch 17/100\n",
      "\u001b[1m3/3\u001b[0m \u001b[32m━━━━━━━━━━━━━━━━━━━━\u001b[0m\u001b[37m\u001b[0m \u001b[1m1s\u001b[0m 238ms/step - accuracy: 0.9488 - loss: 0.0992 - val_accuracy: 0.8108 - val_loss: 1.2596\n",
      "Epoch 18/100\n",
      "\u001b[1m3/3\u001b[0m \u001b[32m━━━━━━━━━━━━━━━━━━━━\u001b[0m\u001b[37m\u001b[0m \u001b[1m1s\u001b[0m 233ms/step - accuracy: 0.9448 - loss: 0.0914 - val_accuracy: 0.8108 - val_loss: 1.1292\n",
      "Epoch 19/100\n",
      "\u001b[1m3/3\u001b[0m \u001b[32m━━━━━━━━━━━━━━━━━━━━\u001b[0m\u001b[37m\u001b[0m \u001b[1m1s\u001b[0m 226ms/step - accuracy: 0.9626 - loss: 0.0989 - val_accuracy: 0.8108 - val_loss: 0.9741\n",
      "Epoch 20/100\n",
      "\u001b[1m3/3\u001b[0m \u001b[32m━━━━━━━━━━━━━━━━━━━━\u001b[0m\u001b[37m\u001b[0m \u001b[1m1s\u001b[0m 235ms/step - accuracy: 0.9606 - loss: 0.0672 - val_accuracy: 0.7568 - val_loss: 0.8560\n",
      "Epoch 21/100\n",
      "\u001b[1m3/3\u001b[0m \u001b[32m━━━━━━━━━━━━━━━━━━━━\u001b[0m\u001b[37m\u001b[0m \u001b[1m1s\u001b[0m 230ms/step - accuracy: 0.9528 - loss: 0.0720 - val_accuracy: 0.7568 - val_loss: 0.7809\n",
      "Epoch 22/100\n",
      "\u001b[1m3/3\u001b[0m \u001b[32m━━━━━━━━━━━━━━━━━━━━\u001b[0m\u001b[37m\u001b[0m \u001b[1m1s\u001b[0m 230ms/step - accuracy: 0.9390 - loss: 0.0740 - val_accuracy: 0.7838 - val_loss: 0.7444\n",
      "Epoch 23/100\n",
      "\u001b[1m3/3\u001b[0m \u001b[32m━━━━━━━━━━━━━━━━━━━━\u001b[0m\u001b[37m\u001b[0m \u001b[1m1s\u001b[0m 229ms/step - accuracy: 0.9743 - loss: 0.0708 - val_accuracy: 0.8108 - val_loss: 0.6854\n",
      "Epoch 24/100\n",
      "\u001b[1m3/3\u001b[0m \u001b[32m━━━━━━━━━━━━━━━━━━━━\u001b[0m\u001b[37m\u001b[0m \u001b[1m1s\u001b[0m 234ms/step - accuracy: 0.9410 - loss: 0.0763 - val_accuracy: 0.8108 - val_loss: 0.6328\n",
      "Epoch 25/100\n",
      "\u001b[1m3/3\u001b[0m \u001b[32m━━━━━━━━━━━━━━━━━━━━\u001b[0m\u001b[37m\u001b[0m \u001b[1m1s\u001b[0m 224ms/step - accuracy: 0.9684 - loss: 0.0536 - val_accuracy: 0.8108 - val_loss: 0.5838\n",
      "Epoch 26/100\n",
      "\u001b[1m3/3\u001b[0m \u001b[32m━━━━━━━━━━━━━━━━━━━━\u001b[0m\u001b[37m\u001b[0m \u001b[1m1s\u001b[0m 229ms/step - accuracy: 0.9587 - loss: 0.0551 - val_accuracy: 0.8108 - val_loss: 0.5533\n",
      "Epoch 27/100\n",
      "\u001b[1m3/3\u001b[0m \u001b[32m━━━━━━━━━━━━━━━━━━━━\u001b[0m\u001b[37m\u001b[0m \u001b[1m1s\u001b[0m 240ms/step - accuracy: 0.9803 - loss: 0.0796 - val_accuracy: 0.7838 - val_loss: 0.5375\n",
      "Epoch 28/100\n",
      "\u001b[1m3/3\u001b[0m \u001b[32m━━━━━━━━━━━━━━━━━━━━\u001b[0m\u001b[37m\u001b[0m \u001b[1m1s\u001b[0m 231ms/step - accuracy: 1.0000 - loss: 0.0512 - val_accuracy: 0.8108 - val_loss: 0.5432\n",
      "Epoch 29/100\n",
      "\u001b[1m3/3\u001b[0m \u001b[32m━━━━━━━━━━━━━━━━━━━━\u001b[0m\u001b[37m\u001b[0m \u001b[1m1s\u001b[0m 227ms/step - accuracy: 0.9901 - loss: 0.0264 - val_accuracy: 0.8108 - val_loss: 0.5318\n",
      "Epoch 30/100\n",
      "\u001b[1m3/3\u001b[0m \u001b[32m━━━━━━━━━━━━━━━━━━━━\u001b[0m\u001b[37m\u001b[0m \u001b[1m1s\u001b[0m 232ms/step - accuracy: 0.9842 - loss: 0.0349 - val_accuracy: 0.8378 - val_loss: 0.5549\n",
      "Epoch 31/100\n",
      "\u001b[1m3/3\u001b[0m \u001b[32m━━━━━━━━━━━━━━━━━━━━\u001b[0m\u001b[37m\u001b[0m \u001b[1m1s\u001b[0m 232ms/step - accuracy: 0.9725 - loss: 0.0761 - val_accuracy: 0.8108 - val_loss: 0.6216\n",
      "Epoch 32/100\n",
      "\u001b[1m3/3\u001b[0m \u001b[32m━━━━━━━━━━━━━━━━━━━━\u001b[0m\u001b[37m\u001b[0m \u001b[1m1s\u001b[0m 235ms/step - accuracy: 0.9842 - loss: 0.0484 - val_accuracy: 0.8378 - val_loss: 0.5964\n",
      "Epoch 33/100\n",
      "\u001b[1m3/3\u001b[0m \u001b[32m━━━━━━━━━━━━━━━━━━━━\u001b[0m\u001b[37m\u001b[0m \u001b[1m1s\u001b[0m 231ms/step - accuracy: 0.9548 - loss: 0.0676 - val_accuracy: 0.8108 - val_loss: 0.5682\n",
      "Epoch 34/100\n",
      "\u001b[1m3/3\u001b[0m \u001b[32m━━━━━━━━━━━━━━━━━━━━\u001b[0m\u001b[37m\u001b[0m \u001b[1m1s\u001b[0m 240ms/step - accuracy: 0.9704 - loss: 0.0439 - val_accuracy: 0.8108 - val_loss: 0.5617\n",
      "Epoch 35/100\n",
      "\u001b[1m3/3\u001b[0m \u001b[32m━━━━━━━━━━━━━━━━━━━━\u001b[0m\u001b[37m\u001b[0m \u001b[1m1s\u001b[0m 234ms/step - accuracy: 0.9881 - loss: 0.0529 - val_accuracy: 0.8378 - val_loss: 0.5632\n",
      "Epoch 36/100\n",
      "\u001b[1m3/3\u001b[0m \u001b[32m━━━━━━━━━━━━━━━━━━━━\u001b[0m\u001b[37m\u001b[0m \u001b[1m1s\u001b[0m 223ms/step - accuracy: 0.9803 - loss: 0.0433 - val_accuracy: 0.8108 - val_loss: 0.5408\n",
      "Epoch 37/100\n",
      "\u001b[1m3/3\u001b[0m \u001b[32m━━━━━━━━━━━━━━━━━━━━\u001b[0m\u001b[37m\u001b[0m \u001b[1m1s\u001b[0m 237ms/step - accuracy: 1.0000 - loss: 0.0114 - val_accuracy: 0.8108 - val_loss: 0.5209\n",
      "Epoch 38/100\n",
      "\u001b[1m3/3\u001b[0m \u001b[32m━━━━━━━━━━━━━━━━━━━━\u001b[0m\u001b[37m\u001b[0m \u001b[1m1s\u001b[0m 232ms/step - accuracy: 0.9823 - loss: 0.0387 - val_accuracy: 0.8108 - val_loss: 0.5173\n",
      "Epoch 39/100\n",
      "\u001b[1m3/3\u001b[0m \u001b[32m━━━━━━━━━━━━━━━━━━━━\u001b[0m\u001b[37m\u001b[0m \u001b[1m1s\u001b[0m 225ms/step - accuracy: 0.9901 - loss: 0.0201 - val_accuracy: 0.8108 - val_loss: 0.5102\n",
      "Epoch 40/100\n",
      "\u001b[1m3/3\u001b[0m \u001b[32m━━━━━━━━━━━━━━━━━━━━\u001b[0m\u001b[37m\u001b[0m \u001b[1m1s\u001b[0m 219ms/step - accuracy: 1.0000 - loss: 0.0291 - val_accuracy: 0.8108 - val_loss: 0.4760\n",
      "Epoch 41/100\n",
      "\u001b[1m3/3\u001b[0m \u001b[32m━━━━━━━━━━━━━━━━━━━━\u001b[0m\u001b[37m\u001b[0m \u001b[1m1s\u001b[0m 231ms/step - accuracy: 0.9940 - loss: 0.0270 - val_accuracy: 0.8108 - val_loss: 0.4553\n",
      "Epoch 42/100\n",
      "\u001b[1m3/3\u001b[0m \u001b[32m━━━━━━━━━━━━━━━━━━━━\u001b[0m\u001b[37m\u001b[0m \u001b[1m1s\u001b[0m 234ms/step - accuracy: 0.9823 - loss: 0.0400 - val_accuracy: 0.8108 - val_loss: 0.4898\n",
      "Epoch 43/100\n",
      "\u001b[1m3/3\u001b[0m \u001b[32m━━━━━━━━━━━━━━━━━━━━\u001b[0m\u001b[37m\u001b[0m \u001b[1m1s\u001b[0m 225ms/step - accuracy: 0.9901 - loss: 0.0254 - val_accuracy: 0.8378 - val_loss: 0.5263\n",
      "Epoch 44/100\n",
      "\u001b[1m3/3\u001b[0m \u001b[32m━━━━━━━━━━━━━━━━━━━━\u001b[0m\u001b[37m\u001b[0m \u001b[1m1s\u001b[0m 223ms/step - accuracy: 0.9940 - loss: 0.0085 - val_accuracy: 0.8378 - val_loss: 0.5194\n",
      "Epoch 45/100\n",
      "\u001b[1m3/3\u001b[0m \u001b[32m━━━━━━━━━━━━━━━━━━━━\u001b[0m\u001b[37m\u001b[0m \u001b[1m1s\u001b[0m 236ms/step - accuracy: 1.0000 - loss: 0.0084 - val_accuracy: 0.8378 - val_loss: 0.4921\n",
      "Epoch 46/100\n",
      "\u001b[1m3/3\u001b[0m \u001b[32m━━━━━━━━━━━━━━━━━━━━\u001b[0m\u001b[37m\u001b[0m \u001b[1m1s\u001b[0m 238ms/step - accuracy: 0.9842 - loss: 0.0266 - val_accuracy: 0.8378 - val_loss: 0.4655\n",
      "Epoch 47/100\n",
      "\u001b[1m3/3\u001b[0m \u001b[32m━━━━━━━━━━━━━━━━━━━━\u001b[0m\u001b[37m\u001b[0m \u001b[1m1s\u001b[0m 225ms/step - accuracy: 1.0000 - loss: 0.0028 - val_accuracy: 0.8108 - val_loss: 0.4581\n",
      "Epoch 48/100\n",
      "\u001b[1m3/3\u001b[0m \u001b[32m━━━━━━━━━━━━━━━━━━━━\u001b[0m\u001b[37m\u001b[0m \u001b[1m1s\u001b[0m 233ms/step - accuracy: 1.0000 - loss: 0.0056 - val_accuracy: 0.8108 - val_loss: 0.4560\n",
      "Epoch 49/100\n",
      "\u001b[1m3/3\u001b[0m \u001b[32m━━━━━━━━━━━━━━━━━━━━\u001b[0m\u001b[37m\u001b[0m \u001b[1m1s\u001b[0m 240ms/step - accuracy: 0.9940 - loss: 0.0212 - val_accuracy: 0.8108 - val_loss: 0.4662\n",
      "Epoch 50/100\n",
      "\u001b[1m3/3\u001b[0m \u001b[32m━━━━━━━━━━━━━━━━━━━━\u001b[0m\u001b[37m\u001b[0m \u001b[1m1s\u001b[0m 231ms/step - accuracy: 1.0000 - loss: 0.0329 - val_accuracy: 0.8108 - val_loss: 0.4864\n",
      "Epoch 51/100\n",
      "\u001b[1m3/3\u001b[0m \u001b[32m━━━━━━━━━━━━━━━━━━━━\u001b[0m\u001b[37m\u001b[0m \u001b[1m1s\u001b[0m 222ms/step - accuracy: 1.0000 - loss: 0.0288 - val_accuracy: 0.8108 - val_loss: 0.4791\n",
      "Epoch 52/100\n",
      "\u001b[1m3/3\u001b[0m \u001b[32m━━━━━━━━━━━━━━━━━━━━\u001b[0m\u001b[37m\u001b[0m \u001b[1m1s\u001b[0m 232ms/step - accuracy: 0.9842 - loss: 0.0306 - val_accuracy: 0.8108 - val_loss: 0.4746\n",
      "Epoch 53/100\n",
      "\u001b[1m3/3\u001b[0m \u001b[32m━━━━━━━━━━━━━━━━━━━━\u001b[0m\u001b[37m\u001b[0m \u001b[1m1s\u001b[0m 240ms/step - accuracy: 1.0000 - loss: 0.0132 - val_accuracy: 0.8108 - val_loss: 0.4722\n",
      "Epoch 54/100\n",
      "\u001b[1m3/3\u001b[0m \u001b[32m━━━━━━━━━━━━━━━━━━━━\u001b[0m\u001b[37m\u001b[0m \u001b[1m1s\u001b[0m 228ms/step - accuracy: 0.9823 - loss: 0.0553 - val_accuracy: 0.8108 - val_loss: 0.4949\n",
      "Epoch 55/100\n",
      "\u001b[1m3/3\u001b[0m \u001b[32m━━━━━━━━━━━━━━━━━━━━\u001b[0m\u001b[37m\u001b[0m \u001b[1m1s\u001b[0m 233ms/step - accuracy: 1.0000 - loss: 0.0305 - val_accuracy: 0.8108 - val_loss: 0.5699\n",
      "Epoch 56/100\n",
      "\u001b[1m3/3\u001b[0m \u001b[32m━━━━━━━━━━━━━━━━━━━━\u001b[0m\u001b[37m\u001b[0m \u001b[1m1s\u001b[0m 241ms/step - accuracy: 0.9901 - loss: 0.0310 - val_accuracy: 0.8378 - val_loss: 0.6401\n",
      "Epoch 57/100\n",
      "\u001b[1m3/3\u001b[0m \u001b[32m━━━━━━━━━━━━━━━━━━━━\u001b[0m\u001b[37m\u001b[0m \u001b[1m1s\u001b[0m 235ms/step - accuracy: 1.0000 - loss: 0.0168 - val_accuracy: 0.8378 - val_loss: 0.6900\n",
      "Epoch 58/100\n",
      "\u001b[1m3/3\u001b[0m \u001b[32m━━━━━━━━━━━━━━━━━━━━\u001b[0m\u001b[37m\u001b[0m \u001b[1m1s\u001b[0m 233ms/step - accuracy: 0.9901 - loss: 0.0501 - val_accuracy: 0.8378 - val_loss: 0.6748\n",
      "Epoch 59/100\n",
      "\u001b[1m3/3\u001b[0m \u001b[32m━━━━━━━━━━━━━━━━━━━━\u001b[0m\u001b[37m\u001b[0m \u001b[1m1s\u001b[0m 229ms/step - accuracy: 0.9823 - loss: 0.0420 - val_accuracy: 0.8649 - val_loss: 0.6947\n",
      "Epoch 60/100\n",
      "\u001b[1m3/3\u001b[0m \u001b[32m━━━━━━━━━━━━━━━━━━━━\u001b[0m\u001b[37m\u001b[0m \u001b[1m1s\u001b[0m 240ms/step - accuracy: 1.0000 - loss: 0.0261 - val_accuracy: 0.8649 - val_loss: 0.7167\n",
      "Epoch 61/100\n",
      "\u001b[1m3/3\u001b[0m \u001b[32m━━━━━━━━━━━━━━━━━━━━\u001b[0m\u001b[37m\u001b[0m \u001b[1m1s\u001b[0m 235ms/step - accuracy: 1.0000 - loss: 0.0129 - val_accuracy: 0.8649 - val_loss: 0.7389\n",
      "Epoch 62/100\n",
      "\u001b[1m3/3\u001b[0m \u001b[32m━━━━━━━━━━━━━━━━━━━━\u001b[0m\u001b[37m\u001b[0m \u001b[1m1s\u001b[0m 230ms/step - accuracy: 1.0000 - loss: 0.0264 - val_accuracy: 0.8649 - val_loss: 0.7598\n",
      "Epoch 63/100\n",
      "\u001b[1m3/3\u001b[0m \u001b[32m━━━━━━━━━━━━━━━━━━━━\u001b[0m\u001b[37m\u001b[0m \u001b[1m1s\u001b[0m 233ms/step - accuracy: 1.0000 - loss: 0.0268 - val_accuracy: 0.8649 - val_loss: 0.7746\n",
      "Epoch 64/100\n",
      "\u001b[1m3/3\u001b[0m \u001b[32m━━━━━━━━━━━━━━━━━━━━\u001b[0m\u001b[37m\u001b[0m \u001b[1m1s\u001b[0m 236ms/step - accuracy: 1.0000 - loss: 0.0242 - val_accuracy: 0.8649 - val_loss: 0.7871\n",
      "Epoch 65/100\n",
      "\u001b[1m3/3\u001b[0m \u001b[32m━━━━━━━━━━━━━━━━━━━━\u001b[0m\u001b[37m\u001b[0m \u001b[1m1s\u001b[0m 232ms/step - accuracy: 0.9823 - loss: 0.0275 - val_accuracy: 0.8649 - val_loss: 0.7848\n",
      "Epoch 66/100\n",
      "\u001b[1m3/3\u001b[0m \u001b[32m━━━━━━━━━━━━━━━━━━━━\u001b[0m\u001b[37m\u001b[0m \u001b[1m1s\u001b[0m 227ms/step - accuracy: 0.9823 - loss: 0.0255 - val_accuracy: 0.8649 - val_loss: 0.7743\n",
      "Epoch 67/100\n",
      "\u001b[1m3/3\u001b[0m \u001b[32m━━━━━━━━━━━━━━━━━━━━\u001b[0m\u001b[37m\u001b[0m \u001b[1m1s\u001b[0m 229ms/step - accuracy: 0.9647 - loss: 0.0347 - val_accuracy: 0.8649 - val_loss: 0.7759\n",
      "Epoch 68/100\n",
      "\u001b[1m3/3\u001b[0m \u001b[32m━━━━━━━━━━━━━━━━━━━━\u001b[0m\u001b[37m\u001b[0m \u001b[1m1s\u001b[0m 249ms/step - accuracy: 1.0000 - loss: 0.0072 - val_accuracy: 0.8649 - val_loss: 0.8254\n",
      "Epoch 69/100\n",
      "\u001b[1m3/3\u001b[0m \u001b[32m━━━━━━━━━━━━━━━━━━━━\u001b[0m\u001b[37m\u001b[0m \u001b[1m1s\u001b[0m 222ms/step - accuracy: 1.0000 - loss: 0.0077 - val_accuracy: 0.8649 - val_loss: 0.8904\n",
      "Epoch 70/100\n",
      "\u001b[1m3/3\u001b[0m \u001b[32m━━━━━━━━━━━━━━━━━━━━\u001b[0m\u001b[37m\u001b[0m \u001b[1m1s\u001b[0m 224ms/step - accuracy: 0.9823 - loss: 0.0308 - val_accuracy: 0.8649 - val_loss: 1.3864\n",
      "Epoch 71/100\n",
      "\u001b[1m3/3\u001b[0m \u001b[32m━━━━━━━━━━━━━━━━━━━━\u001b[0m\u001b[37m\u001b[0m \u001b[1m1s\u001b[0m 229ms/step - accuracy: 0.9901 - loss: 0.0217 - val_accuracy: 0.8649 - val_loss: 1.1888\n",
      "Epoch 72/100\n",
      "\u001b[1m3/3\u001b[0m \u001b[32m━━━━━━━━━━━━━━━━━━━━\u001b[0m\u001b[37m\u001b[0m \u001b[1m1s\u001b[0m 242ms/step - accuracy: 1.0000 - loss: 0.0058 - val_accuracy: 0.8649 - val_loss: 0.9390\n",
      "Epoch 73/100\n",
      "\u001b[1m3/3\u001b[0m \u001b[32m━━━━━━━━━━━━━━━━━━━━\u001b[0m\u001b[37m\u001b[0m \u001b[1m1s\u001b[0m 222ms/step - accuracy: 0.9647 - loss: 0.0462 - val_accuracy: 0.8378 - val_loss: 0.8337\n",
      "Epoch 74/100\n",
      "\u001b[1m3/3\u001b[0m \u001b[32m━━━━━━━━━━━━━━━━━━━━\u001b[0m\u001b[37m\u001b[0m \u001b[1m1s\u001b[0m 228ms/step - accuracy: 0.9940 - loss: 0.0163 - val_accuracy: 0.8378 - val_loss: 0.6461\n",
      "Epoch 75/100\n",
      "\u001b[1m3/3\u001b[0m \u001b[32m━━━━━━━━━━━━━━━━━━━━\u001b[0m\u001b[37m\u001b[0m \u001b[1m1s\u001b[0m 240ms/step - accuracy: 1.0000 - loss: 0.0126 - val_accuracy: 0.8378 - val_loss: 0.4538\n",
      "Epoch 76/100\n",
      "\u001b[1m3/3\u001b[0m \u001b[32m━━━━━━━━━━━━━━━━━━━━\u001b[0m\u001b[37m\u001b[0m \u001b[1m1s\u001b[0m 233ms/step - accuracy: 1.0000 - loss: 0.0122 - val_accuracy: 0.8378 - val_loss: 0.4501\n",
      "Epoch 77/100\n",
      "\u001b[1m3/3\u001b[0m \u001b[32m━━━━━━━━━━━━━━━━━━━━\u001b[0m\u001b[37m\u001b[0m \u001b[1m1s\u001b[0m 227ms/step - accuracy: 1.0000 - loss: 0.0114 - val_accuracy: 0.8649 - val_loss: 0.4709\n",
      "Epoch 78/100\n",
      "\u001b[1m3/3\u001b[0m \u001b[32m━━━━━━━━━━━━━━━━━━━━\u001b[0m\u001b[37m\u001b[0m \u001b[1m1s\u001b[0m 224ms/step - accuracy: 0.9823 - loss: 0.0301 - val_accuracy: 0.8649 - val_loss: 0.4987\n",
      "Epoch 79/100\n",
      "\u001b[1m3/3\u001b[0m \u001b[32m━━━━━━━━━━━━━━━━━━━━\u001b[0m\u001b[37m\u001b[0m \u001b[1m1s\u001b[0m 236ms/step - accuracy: 1.0000 - loss: 0.0057 - val_accuracy: 0.8649 - val_loss: 0.5159\n",
      "Epoch 80/100\n",
      "\u001b[1m3/3\u001b[0m \u001b[32m━━━━━━━━━━━━━━━━━━━━\u001b[0m\u001b[37m\u001b[0m \u001b[1m1s\u001b[0m 225ms/step - accuracy: 0.9647 - loss: 0.0481 - val_accuracy: 0.8649 - val_loss: 0.5565\n",
      "Epoch 81/100\n",
      "\u001b[1m3/3\u001b[0m \u001b[32m━━━━━━━━━━━━━━━━━━━━\u001b[0m\u001b[37m\u001b[0m \u001b[1m1s\u001b[0m 230ms/step - accuracy: 0.9823 - loss: 0.0136 - val_accuracy: 0.8649 - val_loss: 0.6063\n",
      "Epoch 82/100\n",
      "\u001b[1m3/3\u001b[0m \u001b[32m━━━━━━━━━━━━━━━━━━━━\u001b[0m\u001b[37m\u001b[0m \u001b[1m1s\u001b[0m 232ms/step - accuracy: 1.0000 - loss: 2.5098e-04 - val_accuracy: 0.8649 - val_loss: 0.6422\n",
      "Epoch 83/100\n",
      "\u001b[1m3/3\u001b[0m \u001b[32m━━━━━━━━━━━━━━━━━━━━\u001b[0m\u001b[37m\u001b[0m \u001b[1m1s\u001b[0m 230ms/step - accuracy: 1.0000 - loss: 0.0277 - val_accuracy: 0.8649 - val_loss: 0.6801\n",
      "Epoch 84/100\n",
      "\u001b[1m3/3\u001b[0m \u001b[32m━━━━━━━━━━━━━━━━━━━━\u001b[0m\u001b[37m\u001b[0m \u001b[1m1s\u001b[0m 215ms/step - accuracy: 0.9823 - loss: 0.0249 - val_accuracy: 0.8649 - val_loss: 0.7309\n",
      "Epoch 85/100\n",
      "\u001b[1m3/3\u001b[0m \u001b[32m━━━━━━━━━━━━━━━━━━━━\u001b[0m\u001b[37m\u001b[0m \u001b[1m1s\u001b[0m 221ms/step - accuracy: 1.0000 - loss: 2.4804e-04 - val_accuracy: 0.8649 - val_loss: 0.7849\n",
      "Epoch 86/100\n",
      "\u001b[1m3/3\u001b[0m \u001b[32m━━━━━━━━━━━━━━━━━━━━\u001b[0m\u001b[37m\u001b[0m \u001b[1m1s\u001b[0m 228ms/step - accuracy: 1.0000 - loss: 0.0085 - val_accuracy: 0.8649 - val_loss: 0.8288\n",
      "Epoch 87/100\n",
      "\u001b[1m3/3\u001b[0m \u001b[32m━━━━━━━━━━━━━━━━━━━━\u001b[0m\u001b[37m\u001b[0m \u001b[1m1s\u001b[0m 226ms/step - accuracy: 1.0000 - loss: 0.0036 - val_accuracy: 0.8378 - val_loss: 0.9336\n",
      "Epoch 88/100\n",
      "\u001b[1m3/3\u001b[0m \u001b[32m━━━━━━━━━━━━━━━━━━━━\u001b[0m\u001b[37m\u001b[0m \u001b[1m1s\u001b[0m 227ms/step - accuracy: 0.9940 - loss: 0.0160 - val_accuracy: 0.8378 - val_loss: 1.2179\n",
      "Epoch 89/100\n",
      "\u001b[1m3/3\u001b[0m \u001b[32m━━━━━━━━━━━━━━━━━━━━\u001b[0m\u001b[37m\u001b[0m \u001b[1m1s\u001b[0m 230ms/step - accuracy: 0.9725 - loss: 0.0494 - val_accuracy: 0.8378 - val_loss: 1.1846\n",
      "Epoch 90/100\n",
      "\u001b[1m3/3\u001b[0m \u001b[32m━━━━━━━━━━━━━━━━━━━━\u001b[0m\u001b[37m\u001b[0m \u001b[1m1s\u001b[0m 219ms/step - accuracy: 0.9940 - loss: 0.0235 - val_accuracy: 0.8649 - val_loss: 0.8174\n",
      "Epoch 91/100\n",
      "\u001b[1m3/3\u001b[0m \u001b[32m━━━━━━━━━━━━━━━━━━━━\u001b[0m\u001b[37m\u001b[0m \u001b[1m1s\u001b[0m 217ms/step - accuracy: 0.9940 - loss: 0.0053 - val_accuracy: 0.8919 - val_loss: 0.3919\n",
      "Epoch 92/100\n",
      "\u001b[1m3/3\u001b[0m \u001b[32m━━━━━━━━━━━━━━━━━━━━\u001b[0m\u001b[37m\u001b[0m \u001b[1m1s\u001b[0m 231ms/step - accuracy: 0.9842 - loss: 0.0279 - val_accuracy: 0.8919 - val_loss: 0.2954\n",
      "Epoch 93/100\n",
      "\u001b[1m3/3\u001b[0m \u001b[32m━━━━━━━━━━━━━━━━━━━━\u001b[0m\u001b[37m\u001b[0m \u001b[1m1s\u001b[0m 235ms/step - accuracy: 0.9901 - loss: 0.0192 - val_accuracy: 0.8919 - val_loss: 0.6028\n",
      "Epoch 94/100\n",
      "\u001b[1m3/3\u001b[0m \u001b[32m━━━━━━━━━━━━━━━━━━━━\u001b[0m\u001b[37m\u001b[0m \u001b[1m1s\u001b[0m 233ms/step - accuracy: 0.9823 - loss: 0.0357 - val_accuracy: 0.8649 - val_loss: 0.8652\n",
      "Epoch 95/100\n",
      "\u001b[1m3/3\u001b[0m \u001b[32m━━━━━━━━━━━━━━━━━━━━\u001b[0m\u001b[37m\u001b[0m \u001b[1m1s\u001b[0m 234ms/step - accuracy: 0.9764 - loss: 0.0340 - val_accuracy: 0.8649 - val_loss: 0.8221\n",
      "Epoch 96/100\n",
      "\u001b[1m3/3\u001b[0m \u001b[32m━━━━━━━━━━━━━━━━━━━━\u001b[0m\u001b[37m\u001b[0m \u001b[1m1s\u001b[0m 233ms/step - accuracy: 1.0000 - loss: 0.0135 - val_accuracy: 0.8649 - val_loss: 0.7597\n",
      "Epoch 97/100\n",
      "\u001b[1m3/3\u001b[0m \u001b[32m━━━━━━━━━━━━━━━━━━━━\u001b[0m\u001b[37m\u001b[0m \u001b[1m1s\u001b[0m 217ms/step - accuracy: 0.9901 - loss: 0.0398 - val_accuracy: 0.8649 - val_loss: 0.5696\n",
      "Epoch 98/100\n",
      "\u001b[1m3/3\u001b[0m \u001b[32m━━━━━━━━━━━━━━━━━━━━\u001b[0m\u001b[37m\u001b[0m \u001b[1m1s\u001b[0m 219ms/step - accuracy: 1.0000 - loss: 0.0014 - val_accuracy: 0.8919 - val_loss: 0.4540\n",
      "Epoch 99/100\n",
      "\u001b[1m3/3\u001b[0m \u001b[32m━━━━━━━━━━━━━━━━━━━━\u001b[0m\u001b[37m\u001b[0m \u001b[1m1s\u001b[0m 225ms/step - accuracy: 1.0000 - loss: 0.0080 - val_accuracy: 0.8919 - val_loss: 0.4106\n",
      "Epoch 100/100\n",
      "\u001b[1m3/3\u001b[0m \u001b[32m━━━━━━━━━━━━━━━━━━━━\u001b[0m\u001b[37m\u001b[0m \u001b[1m1s\u001b[0m 241ms/step - accuracy: 1.0000 - loss: 7.1914e-04 - val_accuracy: 0.8919 - val_loss: 0.4024\n",
      "\u001b[1m2/2\u001b[0m \u001b[32m━━━━━━━━━━━━━━━━━━━━\u001b[0m\u001b[37m\u001b[0m \u001b[1m0s\u001b[0m 15ms/step - accuracy: 0.8863 - loss: 0.4212\n",
      "Validation accuracy: 0.8918918967247009\n"
     ]
    }
   ],
   "source": [
    "# Build the model with the optimal hyperparameters\n",
    "model = tuner.hypermodel.build(best_hps)\n",
    "\n",
    "# Train the model\n",
    "history = model.fit(X_train, y_train, epochs=100, validation_data=(X_val, y_val))\n",
    "\n",
    "# Evaluate the model\n",
    "loss, accuracy = model.evaluate(X_val, y_val)\n",
    "print(f\"Validation accuracy: {accuracy}\")\n"
   ]
  },
  {
   "cell_type": "markdown",
   "id": "9171b321-adb9-49f5-b7d0-3e83a9209287",
   "metadata": {},
   "source": [
    "<h3>Visualization</h3>\n",
    " Plot training & validation accuracy values"
   ]
  },
  {
   "cell_type": "code",
   "execution_count": 9,
   "id": "24852509-d618-4437-86b6-633cdabdd566",
   "metadata": {},
   "outputs": [
    {
     "data": {
      "image/png": "[encoded data removed]",
      "text/plain": [
       "<Figure size 640x480 with 1 Axes>"
      ]
     },
     "metadata": {},
     "output_type": "display_data"
    },
    {
     "data": {
      "image/png": "[encoded data removed]",
      "text/plain": [
       "<Figure size 640x480 with 1 Axes>"
      ]
     },
     "metadata": {},
     "output_type": "display_data"
    }
   ],
   "source": [
    "\n",
    "plt.plot(history.history['accuracy'])\n",
    "plt.plot(history.history['val_accuracy'])\n",
    "plt.title('Model accuracy')\n",
    "plt.ylabel('Accuracy')\n",
    "plt.xlabel('Epoch')\n",
    "plt.legend(['Train', 'Validation'], loc='upper left')\n",
    "plt.show()\n",
    "\n",
    "# Plot training & validation loss values\n",
    "plt.plot(history.history['loss'])\n",
    "plt.plot(history.history['val_loss'])\n",
    "plt.title('Model loss')\n",
    "plt.ylabel('Loss')\n",
    "plt.xlabel('Epoch')\n",
    "plt.legend(['Train', 'Validation'], loc='upper left')\n",
    "plt.show()\n"
   ]
  },
  {
   "cell_type": "markdown",
   "id": "35b2e2cf-36ba-4705-9538-a0cde2975a17",
   "metadata": {},
   "source": [
    "<h3>Data Preprocessing Steps for Input Audio:</h3>\n",
    "<ol><li>The input audio must be preprocessed before to match the input shape of the model.</li>\n",
    "<li>Additionaly, it's important to convert the input audio files in WAV format(Or FFmpeg supported formats) first.</li></ol>\n"
   ]
  },
  {
   "cell_type": "code",
   "execution_count": 10,
   "id": "35dce005-5381-407f-8460-1a1a357cbc01",
   "metadata": {},
   "outputs": [
    {
     "name": "stdout",
     "output_type": "stream",
     "text": [
      "\u001b[1m1/1\u001b[0m \u001b[32m━━━━━━━━━━━━━━━━━━━━\u001b[0m\u001b[37m\u001b[0m \u001b[1m0s\u001b[0m 143ms/step\n",
      "Prediction: Non-Scream\n"
     ]
    }
   ],
   "source": [
    "\n",
    "def preprocess_audio(file_path, max_pad_len=174):\n",
    "    try:\n",
    "        # Load the audio file\n",
    "        audio, sample_rate = librosa.load(file_path, sr=16000)\n",
    "        \n",
    "        # Extract MFCC features\n",
    "        mfccs = librosa.feature.mfcc(y=audio, sr=sample_rate, n_mfcc=20)\n",
    "        \n",
    "        # Pad or truncate the MFCCs to ensure they have a consistent length\n",
    "        if mfccs.shape[1] > max_pad_len:\n",
    "            mfccs = mfccs[:, :max_pad_len]\n",
    "        else:\n",
    "            pad_width = max_pad_len - mfccs.shape[1]\n",
    "            mfccs = np.pad(mfccs, pad_width=((0, 0), (0, pad_width)), mode='constant')\n",
    "        \n",
    "        # Add an extra dimension to match the input shape of the model\n",
    "        mfccs = mfccs.reshape(1, 20, max_pad_len, 1)\n",
    "        \n",
    "        return mfccs\n",
    "    except Exception as e:\n",
    "        print(f\"Error processing {file_path}: {e}\")\n",
    "        return None\n",
    "\n",
    "# Preprocess the audio file\n",
    "audio_path = 'mixkit-fast-rocket-whoosh-1714.wav'\n",
    "preprocessed_audio = preprocess_audio(audio_path)\n",
    "\n",
    "# Make predictions\n",
    "if preprocessed_audio is not None:\n",
    "    prediction = model.predict(preprocessed_audio)\n",
    "    # Convert the prediction to a label\n",
    "    label = 'Scream' if prediction[0] > 0.5 else 'Non-Scream'\n",
    "    print(f\"Prediction: {label}\")\n",
    "else:\n",
    "    print(\"Error in preprocessing the audio file.\")\n"
   ]
  },
  {
   "cell_type": "markdown",
   "id": "fe918d01-d972-4988-b58b-ce2b701dcd43",
   "metadata": {},
   "source": [
    "<h3>Saving The Model</h3>\n",
    "Saving model for Deployment"
   ]
  },
  {
   "cell_type": "code",
   "execution_count": 12,
   "id": "9b32e765-b3f0-452f-b04e-86ab63103a9b",
   "metadata": {},
   "outputs": [],
   "source": [
    "'''\n",
    "import pickle\n",
    "\n",
    "with open('Model.pkl', 'wb') as f:\n",
    "    pickle.dump(model, f)'''"
   ]
  },
  {
   "cell_type": "code",
   "execution_count": null,
   "id": "ee110507-2c36-490f-8405-8a77798e88d4",
   "metadata": {},
   "outputs": [],
   "source": []
  }
 ],
 "metadata": {
  "kernelspec": {
   "display_name": "Python (myenv)",
   "language": "python",
   "name": "myenv"
  },
  "language_info": {
   "codemirror_mode": {
    "name": "ipython",
    "version": 3
   },
   "file_extension": ".py",
   "mimetype": "text/x-python",
   "name": "python",
   "nbconvert_exporter": "python",
   "pygments_lexer": "ipython3",
   "version": "3.12.3"
  }
 },
 "nbformat": 4,
 "nbformat_minor": 5
}
